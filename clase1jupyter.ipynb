{
 "cells": [
  {
   "cell_type": "code",
   "execution_count": 1,
   "metadata": {},
   "outputs": [
    {
     "name": "stdout",
     "output_type": "stream",
     "text": [
      "hola mundo\n"
     ]
    }
   ],
   "source": [
    "print(\"hola mundo\")"
   ]
  },
  {
   "cell_type": "code",
   "execution_count": 1,
   "metadata": {},
   "outputs": [
    {
     "name": "stdout",
     "output_type": "stream",
     "text": [
      "puede tomar cerveza\n"
     ]
    }
   ],
   "source": [
    "edad=19\n",
    "\n",
    "if edad>=18:\n",
    "    \n",
    "    print(\"puede tomar cerveza\")\n",
    "    \n",
    "else:\n",
    "    print(\"no puede tomar cerveza\")"
   ]
  },
  {
   "cell_type": "code",
   "execution_count": 2,
   "metadata": {},
   "outputs": [
    {
     "name": "stdout",
     "output_type": "stream",
     "text": [
      "ingrese edad: 18\n",
      "puede tomar cerveza\n"
     ]
    }
   ],
   "source": [
    "edad= int(input(\"ingrese edad: \"))\n",
    "\n",
    "if edad>=18:\n",
    "    \n",
    "    print(\"puede tomar cerveza\")\n",
    "    \n",
    "else:\n",
    "    print(\"no puede tomar cerveza\")"
   ]
  },
  {
   "cell_type": "code",
   "execution_count": 4,
   "metadata": {},
   "outputs": [],
   "source": [
    "def ejercicio1(edad):\n",
    "    if edad>=18:\n",
    "        print(\"puede tomar cerveza\")\n",
    "    else:\n",
    "        print(\"no puede tomar cerveza\")"
   ]
  },
  {
   "cell_type": "code",
   "execution_count": 5,
   "metadata": {},
   "outputs": [
    {
     "name": "stdout",
     "output_type": "stream",
     "text": [
      "puede tomar cerveza\n"
     ]
    }
   ],
   "source": [
    "ejercicio1(19)"
   ]
  },
  {
   "cell_type": "code",
   "execution_count": 6,
   "metadata": {},
   "outputs": [
    {
     "name": "stdout",
     "output_type": "stream",
     "text": [
      "compro aguila\n"
     ]
    }
   ],
   "source": [
    "marca='aguila'\n",
    "\n",
    "if marca == 'buweiser':\n",
    "    print('compro',marca)\n",
    "    \n",
    "elif marca == 'aguila':\n",
    "    print('compro',marca)\n",
    "    \n",
    "else: \n",
    "    print('no compro')"
   ]
  },
  {
   "cell_type": "code",
   "execution_count": 7,
   "metadata": {},
   "outputs": [
    {
     "name": "stdout",
     "output_type": "stream",
     "text": [
      "compro Aguila\n"
     ]
    }
   ],
   "source": [
    "marca='Aguila'\n",
    "\n",
    "if marca.lower() == 'buweiser':\n",
    "    print('compro',marca)\n",
    "    \n",
    "elif marca.lower()  == 'aguila':\n",
    "    print('compro',marca)\n",
    "    \n",
    "elif marca.lower()  == 'tecate':\n",
    "    print('compro',marca)\n",
    "    \n",
    "elif marca.lower()  == 'poker':\n",
    "    print('compro',marca)\n",
    "    \n",
    "else: \n",
    "    print('no compro')"
   ]
  },
  {
   "cell_type": "code",
   "execution_count": null,
   "metadata": {},
   "outputs": [],
   "source": []
  },
  {
   "cell_type": "code",
   "execution_count": null,
   "metadata": {},
   "outputs": [],
   "source": []
  },
  {
   "cell_type": "code",
   "execution_count": null,
   "metadata": {},
   "outputs": [],
   "source": []
  },
  {
   "cell_type": "code",
   "execution_count": null,
   "metadata": {},
   "outputs": [],
   "source": []
  },
  {
   "cell_type": "code",
   "execution_count": null,
   "metadata": {},
   "outputs": [],
   "source": []
  },
  {
   "cell_type": "code",
   "execution_count": null,
   "metadata": {},
   "outputs": [],
   "source": []
  },
  {
   "cell_type": "code",
   "execution_count": null,
   "metadata": {},
   "outputs": [],
   "source": []
  },
  {
   "cell_type": "code",
   "execution_count": null,
   "metadata": {},
   "outputs": [],
   "source": []
  }
 ],
 "metadata": {
  "kernelspec": {
   "display_name": "Python 3",
   "language": "python",
   "name": "python3"
  },
  "language_info": {
   "codemirror_mode": {
    "name": "ipython",
    "version": 3
   },
   "file_extension": ".py",
   "mimetype": "text/x-python",
   "name": "python",
   "nbconvert_exporter": "python",
   "pygments_lexer": "ipython3",
   "version": "3.8.5"
  }
 },
 "nbformat": 4,
 "nbformat_minor": 4
}
